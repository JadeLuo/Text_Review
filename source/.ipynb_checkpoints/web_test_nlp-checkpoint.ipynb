{
 "cells": [
  {
   "cell_type": "code",
   "execution_count": 1,
   "metadata": {
    "ExecuteTime": {
     "end_time": "2020-02-13T07:25:15.896979Z",
     "start_time": "2020-02-13T07:25:15.889131Z"
    }
   },
   "outputs": [],
   "source": [
    "%config ZMQInteractiveShell.ast_node_interactivity='all'"
   ]
  },
  {
   "cell_type": "code",
   "execution_count": 2,
   "metadata": {
    "ExecuteTime": {
     "end_time": "2020-02-13T07:25:23.732099Z",
     "start_time": "2020-02-13T07:25:19.806686Z"
    }
   },
   "outputs": [],
   "source": [
    "import requests\n",
    "import base64\n",
    "import json\n",
    "import time\n",
    "import os\n",
    "import urllib3\n",
    "from tqdm import tqdm\n",
    "from moviepy.editor import *\n",
    "from pydub import AudioSegment"
   ]
  },
  {
   "cell_type": "code",
   "execution_count": 3,
   "metadata": {
    "ExecuteTime": {
     "end_time": "2020-02-13T07:25:23.747612Z",
     "start_time": "2020-02-13T07:25:23.739099Z"
    }
   },
   "outputs": [],
   "source": [
    "# 构建请求串\n",
    "def mak_req(img_domain='', filename='', aigroup='ai_g7', ais='keyword#fnlp',  \n",
    "            textdata='', debug='y', loc='y' , addition_info_in_place_ai='y'):\n",
    "    #if filename !='':\n",
    "    rs={}\n",
    "\n",
    "    if textdata == '':\n",
    "        rs.update({\"imgurl\": img_domain})\n",
    "        rs.update({\"imagedata\": ''})\n",
    "    else:\n",
    "        rs.update({\"textdata\": textdata})\n",
    "        #rs.update({\"imgurl\": ''})\n",
    "    if debug!='':\n",
    "        rs.update({\"debug\": debug})\n",
    "    if debug=='y':\n",
    "        rs.update({\"picid\": filename})\n",
    "    if loc=='y' or loc!='n':\n",
    "        rs.update({\"loc\": loc})\n",
    "    if addition_info_in_place_ai =='y' or addition_info_in_place_ai =='n':\n",
    "        rs.update({'addition_info_in_place_ai': addition_info_in_place_ai})\n",
    "    #请求的aigroup\n",
    "    rs.update({\"ais\": ais})\n",
    "\n",
    "    if aigroup =='': #aigrou如果为空, 构造使用默认aigroup\n",
    "        aigroup=self.aigroup\n",
    "        rs.update({'aigroup': self.aigroup})\n",
    "    elif aigroup =='del': #如果aigroup 为del ，构造 请求中不加aigroup字段，应该返回错误\n",
    "        print()\n",
    "    elif aigroup == 'empty':#如果aigroup 为empty ，构造 请求中aigroup置空，应该返回错误\n",
    "        rs.update({'aigroup': ''})\n",
    "    else:\n",
    "        rs.update({'aigroup': aigroup})\n",
    "    #print(str(rs))\n",
    "    return rs"
   ]
  },
  {
   "cell_type": "code",
   "execution_count": 4,
   "metadata": {
    "ExecuteTime": {
     "end_time": "2020-02-13T07:25:24.947670Z",
     "start_time": "2020-02-13T07:25:24.944460Z"
    }
   },
   "outputs": [],
   "source": [
    "#进行ai_group 请求，得到返回结果\n",
    "def do_req(rs, ai_url):\n",
    "\n",
    "    # do  http ai request\n",
    "    http=urllib3.PoolManager()\n",
    "\n",
    "    r=http.request(\n",
    "            'post',\n",
    "            ai_url,\n",
    "            fields = rs\n",
    "            )\n",
    "    #print(r.data.decode())\n",
    "    \n",
    "    return r"
   ]
  },
  {
   "cell_type": "code",
   "execution_count": 13,
   "metadata": {
    "ExecuteTime": {
     "end_time": "2020-02-13T10:34:46.969421Z",
     "start_time": "2020-02-13T10:34:46.911223Z"
    },
    "scrolled": true
   },
   "outputs": [
    {
     "data": {
      "text/plain": [
       "{'result': [{'model': 'keyword',\n",
       "   'kind': 'NLP_keyword',\n",
       "   'mr': [{'class': 'kw_political',\n",
       "     'words': [{'word': '解放军', 'num': 2},\n",
       "      {'word': '共产党', 'num': 2},\n",
       "      {'word': '军队', 'num': 2},\n",
       "      {'word': '政权', 'num': 2},\n",
       "      {'word': '文化大革命', 'num': 1},\n",
       "      {'word': '中共的', 'num': 2},\n",
       "      {'word': '一带一路', 'num': 2},\n",
       "      {'word': '中共', 'num': 3},\n",
       "      {'word': '外交', 'num': 1},\n",
       "      {'word': '主权', 'num': 1}]}],\n",
       "   'code': 1},\n",
       "  {'model': 'cherry',\n",
       "   'kind': 'NLP_cherry',\n",
       "   'mr': [{'class': 'political'}],\n",
       "   'code': '1'}],\n",
       " 'pro_ver': '2.1',\n",
       " 'picid': ''}"
      ]
     },
     "execution_count": 13,
     "metadata": {},
     "output_type": "execute_result"
    }
   ],
   "source": [
    "url='http://0.0.0.0:5000'\n",
    "aiurl='{}/ai'.format(url)\n",
    "textdata = '中国的解放军永远只能是共产党一党的私产当知道中国党皇帝决不允许军队国家化的那一刻也许我们心中的很多幻想都破灭了中国人的政权只能从中国的解放军永远只能是共产党一党的私产当知道中国党皇帝决不允许军队国家化的那一刻也许我们心中的很多幻想都破灭了中国人的政权只能从枪杆子里只能从暴力中诞生获得而绝不会绝不允许从民主中产生这难道是中国人永远的宿命至少现在尤其是毛狗子，祸国殃民，中国乃至于华夏民族第一大罪人！其心可诛，罪无可赦，从来就没有打算让中国成为一个民主国家，只会一心一意的搞破坏，为了满足自己的私欲，什么大跃进，文化大革命，根本就是上演现代版的夺嫡之争，保守到了极点，死后还被一堆愚民瞻仰仪容，真的是可恶到了家！这样的人天地不容，死后子孙世世代代做奴才吧！大家只要注意一下，西方国家多数都是不支持中共的「一带一路」。那些接受中共「一带一路」的国家实际上现在感到后悔，都中了中共的圈套和经济陷阱。中共给这些国家借贷，不是援助。而这些借贷都是一种外交陷阱。由于这些国家无法偿还这么高的利率，在债务违约情况下中共就利用这点，并吞这些海外资产，侵犯到其他国家的主权。由于这些国家无法偿还这么高的利率，在债务违约'\n",
    "rs = mak_req(textdata=textdata, ais='keyword#cherry')\n",
    "r = do_req(rs, aiurl)\n",
    "d = json.loads(r.data.decode())\n",
    "d"
   ]
  },
  {
   "cell_type": "code",
   "execution_count": null,
   "metadata": {},
   "outputs": [],
   "source": []
  }
 ],
 "metadata": {
  "kernelspec": {
   "display_name": "spleeter",
   "language": "python",
   "name": "spleeter-gpu"
  },
  "language_info": {
   "codemirror_mode": {
    "name": "ipython",
    "version": 3
   },
   "file_extension": ".py",
   "mimetype": "text/x-python",
   "name": "python",
   "nbconvert_exporter": "python",
   "pygments_lexer": "ipython3",
   "version": "3.7.3"
  },
  "nbTranslate": {
   "displayLangs": [
    "*"
   ],
   "hotkey": "alt-t",
   "langInMainMenu": true,
   "sourceLang": "en",
   "targetLang": "fr",
   "useGoogleTranslate": true
  },
  "toc": {
   "base_numbering": 1,
   "nav_menu": {},
   "number_sections": true,
   "sideBar": true,
   "skip_h1_title": false,
   "title_cell": "Table of Contents",
   "title_sidebar": "Contents",
   "toc_cell": false,
   "toc_position": {},
   "toc_section_display": true,
   "toc_window_display": false
  },
  "varInspector": {
   "cols": {
    "lenName": 16,
    "lenType": 16,
    "lenVar": 40
   },
   "kernels_config": {
    "python": {
     "delete_cmd_postfix": "",
     "delete_cmd_prefix": "del ",
     "library": "var_list.py",
     "varRefreshCmd": "print(var_dic_list())"
    },
    "r": {
     "delete_cmd_postfix": ") ",
     "delete_cmd_prefix": "rm(",
     "library": "var_list.r",
     "varRefreshCmd": "cat(var_dic_list()) "
    }
   },
   "types_to_exclude": [
    "module",
    "function",
    "builtin_function_or_method",
    "instance",
    "_Feature"
   ],
   "window_display": false
  }
 },
 "nbformat": 4,
 "nbformat_minor": 2
}
